{
 "cells": [
  {
   "cell_type": "markdown",
   "id": "40c96d98-2d09-4938-ad92-2103ae6c3002",
   "metadata": {},
   "source": [
    "# Loading Book"
   ]
  },
  {
   "cell_type": "code",
   "execution_count": 3,
   "id": "66499ca7-3e90-4a9a-b69d-eddc5ad46da6",
   "metadata": {},
   "outputs": [],
   "source": [
    "with open(\"miracle_in_the_andes.txt\",'r',encoding='utf-8') as file:\n",
    "    book = file.read()"
   ]
  },
  {
   "cell_type": "markdown",
   "id": "5b4702ba-b750-4c32-a094-02fd3962f92f",
   "metadata": {},
   "source": [
    "# The most used words(non articles)"
   ]
  },
  {
   "cell_type": "code",
   "execution_count": 4,
   "id": "7f554f34-64fc-438a-9e23-0a4b7cd312bc",
   "metadata": {},
   "outputs": [
    {
     "data": {
      "text/plain": [
       "['chapter', 'before', 'it', 'was', 'friday', 'the']"
      ]
     },
     "execution_count": 4,
     "metadata": {},
     "output_type": "execute_result"
    }
   ],
   "source": [
    "import re\n",
    "pattern = re.compile('[a-zA-Z]+')\n",
    "findings = re.findall(pattern, book.lower())\n",
    "(findings[:6])"
   ]
  },
  {
   "cell_type": "code",
   "execution_count": 5,
   "id": "66cc36ff-d048-456c-b11b-49d7877a5290",
   "metadata": {},
   "outputs": [],
   "source": [
    "d = {}\n",
    "for word in findings:\n",
    "    if word in d.keys():\n",
    "        d[word] = d[word]+1\n",
    "    else:\n",
    "        d[word] = 1"
   ]
  },
  {
   "cell_type": "code",
   "execution_count": 6,
   "id": "d180930a-a5fa-47ea-903c-d9792f03997f",
   "metadata": {},
   "outputs": [
    {
     "data": {
      "text/plain": [
       "[(5346, 'the'), (2795, 'and'), (2729, 'i'), (2400, 'to'), (2060, 'of')]"
      ]
     },
     "execution_count": 6,
     "metadata": {},
     "output_type": "execute_result"
    }
   ],
   "source": [
    "d_list = [(value,key) for (key,value) in d.items()]\n",
    "d_list = sorted(d_list, reverse = True)\n",
    "d_list[:5]"
   ]
  },
  {
   "cell_type": "code",
   "execution_count": 7,
   "id": "911be7c0-f75b-4862-b168-2d23c1fe131f",
   "metadata": {},
   "outputs": [
    {
     "name": "stderr",
     "output_type": "stream",
     "text": [
      "[nltk_data] Downloading package stopwords to\n",
      "[nltk_data]     C:\\Users\\1000452\\AppData\\Roaming\\nltk_data...\n",
      "[nltk_data]   Package stopwords is already up-to-date!\n"
     ]
    },
    {
     "data": {
      "text/plain": [
       "True"
      ]
     },
     "execution_count": 7,
     "metadata": {},
     "output_type": "execute_result"
    }
   ],
   "source": [
    "import nltk\n",
    "nltk.download('stopwords')"
   ]
  },
  {
   "cell_type": "code",
   "execution_count": 8,
   "id": "44cdd4c0-8435-42a7-b0c6-c42d51012a56",
   "metadata": {},
   "outputs": [],
   "source": [
    "import nltk\n",
    "\n",
    "from nltk.corpus import stopwords\n",
    "english_stopwords = stopwords.words('english')"
   ]
  },
  {
   "cell_type": "code",
   "execution_count": 9,
   "id": "2d04d292-737b-4bb2-9644-973a6bb70708",
   "metadata": {},
   "outputs": [],
   "source": [
    "filtered_words = []\n",
    "for count, word in d_list:\n",
    "    if word not in english_stopwords:\n",
    "        filtered_words.append((word,count))"
   ]
  },
  {
   "cell_type": "code",
   "execution_count": 11,
   "id": "6c3b5d44-01c9-42cb-afd1-7072ece08689",
   "metadata": {},
   "outputs": [
    {
     "data": {
      "text/plain": [
       "[('would', 575), ('us', 519), ('said', 292)]"
      ]
     },
     "execution_count": 11,
     "metadata": {},
     "output_type": "execute_result"
    }
   ],
   "source": [
    "filtered_words[:3]"
   ]
  },
  {
   "cell_type": "markdown",
   "id": "342a952e-6462-4d70-9745-918485bc23d1",
   "metadata": {},
   "source": [
    "# Sentiment Analysis : WHat is the most positive and most negative chapter"
   ]
  },
  {
   "cell_type": "markdown",
   "id": "b517fd96-8b0e-4cf3-be95-d8668976b46e",
   "metadata": {},
   "source": [
    "### An Example"
   ]
  },
  {
   "cell_type": "code",
   "execution_count": 15,
   "id": "9edac72f-7949-41e0-92bd-e2e721044742",
   "metadata": {},
   "outputs": [],
   "source": [
    "from nltk.sentiment import SentimentIntensityAnalyzer as sia"
   ]
  },
  {
   "cell_type": "code",
   "execution_count": 18,
   "id": "81c359f7-e546-4a04-a535-2466971ea321",
   "metadata": {},
   "outputs": [
    {
     "name": "stderr",
     "output_type": "stream",
     "text": [
      "[nltk_data] Downloading package vader_lexicon to\n",
      "[nltk_data]     C:\\Users\\1000452\\AppData\\Roaming\\nltk_data...\n"
     ]
    },
    {
     "data": {
      "text/plain": [
       "True"
      ]
     },
     "execution_count": 18,
     "metadata": {},
     "output_type": "execute_result"
    }
   ],
   "source": [
    "nltk.download('vader_lexicon')"
   ]
  },
  {
   "cell_type": "code",
   "execution_count": 19,
   "id": "be6e0c0a-a5f3-4cef-8251-1e58d8ff42b6",
   "metadata": {},
   "outputs": [],
   "source": [
    "analyzer = sia()"
   ]
  },
  {
   "cell_type": "code",
   "execution_count": 40,
   "id": "1c9ac36d-0f23-459b-8d7e-3e3a6f762dba",
   "metadata": {},
   "outputs": [],
   "source": [
    "scores = analyzer.polarity_scores(\"Hey, look how beautiful the trees are. I love them\")"
   ]
  },
  {
   "cell_type": "code",
   "execution_count": 41,
   "id": "3cc0cd14-9727-4fbd-831e-c65dfe215aea",
   "metadata": {},
   "outputs": [
    {
     "name": "stdout",
     "output_type": "stream",
     "text": [
      "Positive\n"
     ]
    }
   ],
   "source": [
    "if scores[\"pos\"] > scores['neg']:\n",
    "    print(\"Positive\")\n",
    "else:\n",
    "    print(\"negative\")"
   ]
  },
  {
   "cell_type": "code",
   "execution_count": 44,
   "id": "235c9308-283a-4e59-b0fb-a4dde060d2d5",
   "metadata": {},
   "outputs": [
    {
     "data": {
      "text/plain": [
       "{'neg': 0.116, 'neu': 0.76, 'pos': 0.125, 'compound': 1.0}"
      ]
     },
     "execution_count": 44,
     "metadata": {},
     "output_type": "execute_result"
    }
   ],
   "source": [
    "analyzer.polarity_scores(book)"
   ]
  },
  {
   "cell_type": "markdown",
   "id": "58dec70c-f295-43f2-ac48-0d7e3ae88001",
   "metadata": {},
   "source": [
    "### Chapters sentiment analysis"
   ]
  },
  {
   "cell_type": "code",
   "execution_count": 57,
   "id": "c5bc6afd-f121-4ad4-b4e3-22fb28e3869c",
   "metadata": {},
   "outputs": [],
   "source": [
    "import re \n",
    "pattern = re.compile('Chapter [0-9]+')\n",
    "chapters = re.split(pattern,book)"
   ]
  },
  {
   "cell_type": "code",
   "execution_count": 58,
   "id": "0bf4fc05-a69d-4883-8fff-8afc5024d48c",
   "metadata": {
    "scrolled": true
   },
   "outputs": [],
   "source": [
    "chapters = chapters[1:]\n"
   ]
  },
  {
   "cell_type": "code",
   "execution_count": 60,
   "id": "6bd706ea-2bfd-4865-ba13-0393d97f6c89",
   "metadata": {},
   "outputs": [
    {
     "name": "stdout",
     "output_type": "stream",
     "text": [
      "Chapter 1 is a postive chapter\n",
      "Chapter 2 is a postive chapter\n",
      "Chapter 3 is a negative chapter\n",
      "Chapter 4 is a negative chapter\n",
      "Chapter 5 is a postive chapter\n",
      "Chapter 6 is a negative chapter\n",
      "Chapter 7 is a negative chapter\n",
      "Chapter 8 is a negative chapter\n",
      "Chapter 9 is a negative chapter\n",
      "Chapter 10 is a postive chapter\n"
     ]
    }
   ],
   "source": [
    "for nr,chapter in enumerate(chapters):\n",
    "    scores = analyzer.polarity_scores(chapter)\n",
    "    if scores['pos']>scores['neg']:\n",
    "        print (f\"Chapter {nr+1} is a postive chapter\")\n",
    "    else:\n",
    "        print (f\"Chapter {nr+1} is a negative chapter\")"
   ]
  },
  {
   "cell_type": "code",
   "execution_count": null,
   "id": "0a416a10-6a35-4a8b-95e0-2890d030ab09",
   "metadata": {},
   "outputs": [],
   "source": []
  }
 ],
 "metadata": {
  "kernelspec": {
   "display_name": "Python 3 (ipykernel)",
   "language": "python",
   "name": "python3"
  },
  "language_info": {
   "codemirror_mode": {
    "name": "ipython",
    "version": 3
   },
   "file_extension": ".py",
   "mimetype": "text/x-python",
   "name": "python",
   "nbconvert_exporter": "python",
   "pygments_lexer": "ipython3",
   "version": "3.12.4"
  }
 },
 "nbformat": 4,
 "nbformat_minor": 5
}
