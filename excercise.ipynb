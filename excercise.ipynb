{
 "cells": [
  {
   "cell_type": "markdown",
   "id": "ad1bf2ec-80a2-4e7e-b894-8b9cc8e163d2",
   "metadata": {},
   "source": [
    "# Load the book\n"
   ]
  },
  {
   "cell_type": "code",
   "execution_count": 3,
   "id": "983e16a8-6623-433e-8bb3-bb8f7d1cfdcf",
   "metadata": {},
   "outputs": [],
   "source": [
    "with open(\"miracle_in_the_andes.txt\",'r',encoding='utf-8') as file:\n",
    "    book = file.read()"
   ]
  },
  {
   "cell_type": "markdown",
   "id": "137cb6d7-089a-48b1-b5c4-b923e837ce13",
   "metadata": {},
   "source": [
    "# Extract the paras where \"love\" was used"
   ]
  },
  {
   "cell_type": "code",
   "execution_count": 17,
   "id": "d515da4c-cc0f-4983-b174-9dbc113eb4b1",
   "metadata": {},
   "outputs": [],
   "source": [
    "import re"
   ]
  },
  {
   "cell_type": "code",
   "execution_count": 23,
   "id": "096b4cf7-2314-4a2c-bbda-39f0f7e4065f",
   "metadata": {},
   "outputs": [
    {
     "data": {
      "text/plain": [
       "['To me, this is the essence of rugby. No other sport gives you such an intense sense of selflessness and unified purpose. I believe this is why rugby players all over the world feel such a passion for the game and such a feeling of brotherhood. As a young man, of course, I could not put these things into words, but I knew, and my teammates knew, that there was something special about the game, and under the guidance of the Christian Brothers we developed a passionate love for the sport that shaped our friendships and our lives. For eight years we played our hearts out for the Christian Brothers—a brotherhood of young boys with Latin names, playing a game with deep Anglo roots under Uruguay’s sunny skies, and proudly wearing the bright green shamrock on our uniforms. The game became so much a part of our lives, in fact, that when we graduated from Stella Maris at the age of sixteen, many of us could not bear the thought that our playing days were over. Our salvation came in the form of the Old Christians Club, a private rugby team formed in 1965 by previous alumni of the Stella Maris rugby program to give Stella Maris ruggers a chance to continue playing the game after our school years ended.',\n",
       " 'There were others—Alexis Hounie, Gastón Costemalle, Daniel Shaw—all of them great players and all of them my friends. But my oldest friend was Guido Magri. He and I had met on my first day at the Stella Maris School—I was eight years old and Guido was one year older—and we had been inseparable ever since. Guido and I grew up together, playing soccer and sharing a love of motorcycles, cars, and auto racing. When I was fifteen we both had mopeds that we had modified in silly ways—removing the mufflers, turn signals, and fenders—and we would ride them to Las Delicias, a famous ice cream parlor in our neighborhood, where we would drool over the girls from the nearby School Sagrado Corazón, hoping to impress them with our souped-up scooters. Guido was a dependable friend, with a good sense of humor and an easy laugh. He was also an outstanding scrum half, as quick and smart as a fox, with good hands and great courage. Under the guidance of the Christian Brothers, both of us grew to love the game of rugby with a consuming passion. As seasons passed we worked hard to improve our skills, and by the time I was fifteen we had each earned a spot on the Stella Maris First XV, the team’s starting lineup. After graduation, both of us went on to join the Old Christians and spent several happy seasons pursuing the high-octane social life of young rugby players. That rowdiness came to an abrupt end for Guido in 1969, when he met and fell in love with the beautiful daughter of a Chilean diplomat. She was now his fiancée, and he was happy to behave himself for her sake.']"
      ]
     },
     "execution_count": 23,
     "metadata": {},
     "output_type": "execute_result"
    }
   ],
   "source": [
    "pattern = re.compile('[^\\n]+love[^\\n]+')\n",
    "findings = re.findall(pattern,book)\n",
    "findings[:2]"
   ]
  },
  {
   "cell_type": "markdown",
   "id": "de93df8b-5ff6-415a-877b-6e42aacee47f",
   "metadata": {},
   "source": [
    "# Extract the Chapter titles"
   ]
  },
  {
   "cell_type": "markdown",
   "id": "6c267c85-c2f2-4251-93e4-4bf442e7d45e",
   "metadata": {
    "jp-MarkdownHeadingCollapsed": true
   },
   "source": [
    "### Method 1"
   ]
  },
  {
   "cell_type": "code",
   "execution_count": 28,
   "id": "f82d5eee-a7ec-4302-8779-afe8e5e30650",
   "metadata": {},
   "outputs": [
    {
     "data": {
      "text/plain": [
       "['Before',\n",
       " 'Everything Precious',\n",
       " 'A Promise',\n",
       " 'Breathe Once More',\n",
       " 'Abandoned',\n",
       " 'Tomb',\n",
       " 'East',\n",
       " 'The Opposite of Death',\n",
       " 'I See a Man',\n",
       " 'After']"
      ]
     },
     "execution_count": 28,
     "metadata": {},
     "output_type": "execute_result"
    }
   ],
   "source": [
    "pattern = re.compile(\"[a-zA-Z ]+\\n\\n\")\n",
    "find = re.findall(pattern,book)\n",
    "find = [finds.strip('\\n\\n') for finds in find\n",
    "find"
   ]
  },
  {
   "cell_type": "markdown",
   "id": "0ef68b5c-a7d8-4d92-82b3-5d13ed506198",
   "metadata": {},
   "source": [
    "\n",
    "### Methods 2"
   ]
  },
  {
   "cell_type": "code",
   "execution_count": 30,
   "id": "83026362-be42-4388-a5eb-27901469052a",
   "metadata": {},
   "outputs": [
    {
     "data": {
      "text/plain": [
       "['Before',\n",
       " 'Everything Precious',\n",
       " 'A Promise',\n",
       " 'Breathe Once More',\n",
       " 'Abandoned',\n",
       " 'Tomb',\n",
       " 'East',\n",
       " 'The Opposite of Death',\n",
       " 'I See a Man',\n",
       " 'After']"
      ]
     },
     "execution_count": 30,
     "metadata": {},
     "output_type": "execute_result"
    }
   ],
   "source": [
    "pattern = re.compile('([a-zA-Z ]+)\\n\\n')\n",
    "findings = re.findall(pattern,book)\n",
    "findings"
   ]
  },
  {
   "cell_type": "markdown",
   "id": "5a189b9a-bcd8-401c-bf10-fa4d2a538c3c",
   "metadata": {},
   "source": [
    "# Function which finds the occurence of anyword"
   ]
  },
  {
   "cell_type": "code",
   "execution_count": 58,
   "id": "e5f3730d-fa38-452d-b62a-3c40ff71c656",
   "metadata": {},
   "outputs": [],
   "source": [
    "def find(w):\n",
    "    pattern = re.compile(\"[a-zA-Z]+\")\n",
    "    findings = re.findall(pattern,book.lower())\n",
    "    d = {}\n",
    "    for word in findings:\n",
    "        if word in d.keys():\n",
    "            d[word] = d[word] +1\n",
    "        else:\n",
    "            d[word] = 1\n",
    "    try:\n",
    "        return d[w]\n",
    "    except:\n",
    "        return f'The book doesnt contain the word \"{w}\"'"
   ]
  },
  {
   "cell_type": "code",
   "execution_count": 60,
   "id": "05e55eba-2273-4e1a-ac11-d3ed64056c9c",
   "metadata": {},
   "outputs": [
    {
     "data": {
      "text/plain": [
       "18"
      ]
     },
     "execution_count": 60,
     "metadata": {},
     "output_type": "execute_result"
    }
   ],
   "source": [
    "find('really')"
   ]
  }
 ],
 "metadata": {
  "kernelspec": {
   "display_name": "Python 3 (ipykernel)",
   "language": "python",
   "name": "python3"
  },
  "language_info": {
   "codemirror_mode": {
    "name": "ipython",
    "version": 3
   },
   "file_extension": ".py",
   "mimetype": "text/x-python",
   "name": "python",
   "nbconvert_exporter": "python",
   "pygments_lexer": "ipython3",
   "version": "3.12.4"
  }
 },
 "nbformat": 4,
 "nbformat_minor": 5
}
