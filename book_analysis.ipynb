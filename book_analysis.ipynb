{
 "cells": [
  {
   "cell_type": "markdown",
   "id": "86caf0be-4761-4637-9f64-a6fd6ef92e40",
   "metadata": {},
   "source": [
    "# Load the Book"
   ]
  },
  {
   "cell_type": "code",
   "execution_count": 10,
   "id": "9c15902a-f062-48ed-8e33-4d83abe54883",
   "metadata": {},
   "outputs": [],
   "source": [
    "with open('miracle_in_the_andes.txt','r',encoding='utf-8') as file:\n",
    "    book = file.read()"
   ]
  },
  {
   "cell_type": "code",
   "execution_count": 12,
   "id": "edf38133-e043-41c6-817a-6c312e05094f",
   "metadata": {},
   "outputs": [
    {
     "data": {
      "text/plain": [
       "str"
      ]
     },
     "execution_count": 12,
     "metadata": {},
     "output_type": "execute_result"
    }
   ],
   "source": [
    "type(book)\n"
   ]
  },
  {
   "cell_type": "markdown",
   "id": "952ec5b8-2c15-4b7f-87ff-3673042d3505",
   "metadata": {},
   "source": [
    "# How many Chapters?"
   ]
  },
  {
   "cell_type": "markdown",
   "id": "d45f0970-1fee-4680-86c7-b7d561430476",
   "metadata": {},
   "source": [
    "### With String Methods"
   ]
  },
  {
   "cell_type": "code",
   "execution_count": 15,
   "id": "5738e30a-192e-4628-b1ca-30d812d26ef7",
   "metadata": {},
   "outputs": [
    {
     "data": {
      "text/plain": [
       "10"
      ]
     },
     "execution_count": 15,
     "metadata": {},
     "output_type": "execute_result"
    }
   ],
   "source": [
    "book.count('Chapter ')"
   ]
  },
  {
   "cell_type": "markdown",
   "id": "5da0f445-5c03-4051-8e6f-ae4b6bc80582",
   "metadata": {},
   "source": [
    "### With Regex"
   ]
  },
  {
   "cell_type": "code",
   "execution_count": 16,
   "id": "cf5403d7-ad3e-4f96-a183-774ddf94f1e5",
   "metadata": {},
   "outputs": [],
   "source": [
    "import re"
   ]
  },
  {
   "cell_type": "code",
   "execution_count": 29,
   "id": "01ab6f86-8ade-43d9-b9c4-078e2115062b",
   "metadata": {},
   "outputs": [
    {
     "data": {
      "text/plain": [
       "10"
      ]
     },
     "execution_count": 29,
     "metadata": {},
     "output_type": "execute_result"
    }
   ],
   "source": [
    "pattern = re.compile('Chapter [0-9]+')\n",
    "findings = re.findall(pattern, book)\n",
    "len(findings)"
   ]
  }
 ],
 "metadata": {
  "kernelspec": {
   "display_name": "Python 3 (ipykernel)",
   "language": "python",
   "name": "python3"
  },
  "language_info": {
   "codemirror_mode": {
    "name": "ipython",
    "version": 3
   },
   "file_extension": ".py",
   "mimetype": "text/x-python",
   "name": "python",
   "nbconvert_exporter": "python",
   "pygments_lexer": "ipython3",
   "version": "3.12.4"
  }
 },
 "nbformat": 4,
 "nbformat_minor": 5
}
